{
 "cells": [
  {
   "cell_type": "code",
   "execution_count": 2,
   "id": "551e02df",
   "metadata": {},
   "outputs": [
    {
     "name": "stdout",
     "output_type": "stream",
     "text": [
      "array('i', [1, 3, 5, 3, 7, 1, 9, 3])\n",
      "[1, 3, 5, 3, 7, 1, 9, 3]\n"
     ]
    }
   ],
   "source": [
    "from array import *\n",
    "my_array = array('i', [1, 3, 5, 3, 7, 1, 9, 3])\n",
    "print(my_array)\n",
    "my_list = my_array.tolist()\n",
    "print(my_list)"
   ]
  },
  {
   "cell_type": "code",
   "execution_count": 5,
   "id": "26e0af54",
   "metadata": {},
   "outputs": [
    {
     "name": "stdout",
     "output_type": "stream",
     "text": [
      "[[ 0  1  2  3]\n",
      " [ 4  5  6  7]\n",
      " [ 8  9 10 11]\n",
      " [12 13 14 15]]\n",
      "result of trace: 30\n"
     ]
    }
   ],
   "source": [
    "import numpy as np\n",
    "m = np.arange(16).reshape(4,4)\n",
    "print(m)\n",
    "result =  np.trace(m)\n",
    "print(\"result of trace:\", result)"
   ]
  },
  {
   "cell_type": "code",
   "execution_count": 3,
   "id": "533db659",
   "metadata": {},
   "outputs": [
    {
     "name": "stdout",
     "output_type": "stream",
     "text": [
      "Values bigger than 1 [ 4  2 20  3]\n"
     ]
    }
   ],
   "source": [
    "import numpy as np\n",
    "x = np.array([[0, 4, 2], [20, 3, 1]])\n",
    "print(\"Values bigger than 1\", x[x>1])"
   ]
  },
  {
   "cell_type": "code",
   "execution_count": 4,
   "id": "4a6d024c",
   "metadata": {},
   "outputs": [
    {
     "name": "stdout",
     "output_type": "stream",
     "text": [
      "[[ 6  6 16 16]]\n"
     ]
    }
   ],
   "source": [
    "import numpy as np\n",
    "A = np.array([5, 4, 8, 7])\n",
    "B = np.array([1, 2, 8, 9])\n",
    "C = np.array([A+B])\n",
    "print(C)"
   ]
  },
  {
   "cell_type": "code",
   "execution_count": 6,
   "id": "998b1cf2",
   "metadata": {},
   "outputs": [
    {
     "name": "stdout",
     "output_type": "stream",
     "text": [
      "[[ 0  1  2  3]\n",
      " [ 4  5  6  7]\n",
      " [ 8  9 10 11]\n",
      " [12 13 14 15]]\n",
      "\n",
      "Subtracted the mean of each row of the said matrix:\n",
      "\n",
      "[[-1.5 -0.5  0.5  1.5]\n",
      " [-1.5 -0.5  0.5  1.5]\n",
      " [-1.5 -0.5  0.5  1.5]\n",
      " [-1.5 -0.5  0.5  1.5]]\n"
     ]
    }
   ],
   "source": [
    "import numpy as np\n",
    "X = np.arange(16).reshape(4,4)\n",
    "print(X)\n",
    "print(\"\\nSubtracted the mean of each row of the said matrix:\\n\")\n",
    "Y = X - X.mean(axis=1, keepdims=True)\n",
    "print(Y)"
   ]
  },
  {
   "cell_type": "code",
   "execution_count": null,
   "id": "48a4e13a",
   "metadata": {},
   "outputs": [],
   "source": []
  }
 ],
 "metadata": {
  "kernelspec": {
   "display_name": "Python 3",
   "language": "python",
   "name": "python3"
  },
  "language_info": {
   "codemirror_mode": {
    "name": "ipython",
    "version": 3
   },
   "file_extension": ".py",
   "mimetype": "text/x-python",
   "name": "python",
   "nbconvert_exporter": "python",
   "pygments_lexer": "ipython3",
   "version": "3.8.8"
  }
 },
 "nbformat": 4,
 "nbformat_minor": 5
}
